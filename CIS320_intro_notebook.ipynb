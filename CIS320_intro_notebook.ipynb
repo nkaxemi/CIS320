{
  "nbformat": 4,
  "nbformat_minor": 0,
  "metadata": {
    "colab": {
      "provenance": [],
      "authorship_tag": "ABX9TyMjk3hOR7vjUjrxwjQNUKOt",
      "include_colab_link": true
    },
    "kernelspec": {
      "name": "python3",
      "display_name": "Python 3"
    },
    "language_info": {
      "name": "python"
    }
  },
  "cells": [
    {
      "cell_type": "markdown",
      "metadata": {
        "id": "view-in-github",
        "colab_type": "text"
      },
      "source": [
        "<a href=\"https://colab.research.google.com/github/nkaxemi/CIS320/blob/main/CIS320_intro_notebook.ipynb\" target=\"_parent\"><img src=\"https://colab.research.google.com/assets/colab-badge.svg\" alt=\"Open In Colab\"/></a>"
      ]
    },
    {
      "cell_type": "code",
      "execution_count": null,
      "metadata": {
        "colab": {
          "base_uri": "https://localhost:8080/"
        },
        "id": "hnxrfaayz47j",
        "outputId": "7151e646-a6e0-4375-febe-d371ab389ab2"
      },
      "outputs": [
        {
          "output_type": "stream",
          "name": "stdout",
          "text": [
            "hello world\n"
          ]
        }
      ],
      "source": [
        "\n",
        "#This is a simple python program\n",
        "print('hello world')"
      ]
    },
    {
      "cell_type": "markdown",
      "source": [
        "This is a first notebook in colab\n",
        "----------------------------------\n",
        "**jupyter** is the open source tool for notebooks. Colab is based on jupyter.\n",
        "\n",
        "<p><b>This is html bold</b></p>"
      ],
      "metadata": {
        "id": "Yqv_PTPP3NVT"
      }
    },
    {
      "cell_type": "markdown",
      "source": [
        "**1/24 notes**\n"
      ],
      "metadata": {
        "id": "FGgAUXeCimAC"
      }
    },
    {
      "cell_type": "code",
      "source": [
        "# this is a python comment\n",
        "2**64/(10**12)"
      ],
      "metadata": {
        "colab": {
          "base_uri": "https://localhost:8080/"
        },
        "id": "UxJCugCxip4H",
        "outputId": "4ba911e9-15b6-4228-d064-a49296f9db29"
      },
      "execution_count": null,
      "outputs": [
        {
          "output_type": "execute_result",
          "data": {
            "text/plain": [
              "18446744.07370955"
            ]
          },
          "metadata": {},
          "execution_count": 2
        }
      ]
    },
    {
      "cell_type": "markdown",
      "source": [
        "Bandwidth of Human Audio"
      ],
      "metadata": {
        "id": "5sN_97J3mVok"
      }
    },
    {
      "cell_type": "code",
      "source": [
        "40000*(2**16)"
      ],
      "metadata": {
        "colab": {
          "base_uri": "https://localhost:8080/"
        },
        "id": "Snv0RZbwmUaw",
        "outputId": "3d7d584c-6fa4-44ed-c5a5-8dda03cf5c20"
      },
      "execution_count": null,
      "outputs": [
        {
          "output_type": "execute_result",
          "data": {
            "text/plain": [
              "2621440000"
            ]
          },
          "metadata": {},
          "execution_count": 3
        }
      ]
    },
    {
      "cell_type": "code",
      "source": [
        "# amount of data over 100 years\n",
        "# (years * days * hours * minutes *sec) * (sampling rate * resolution)\n",
        "100 * 365 * 24 * 60 * 60 * 40000 * 16 / (10**12)"
      ],
      "metadata": {
        "colab": {
          "base_uri": "https://localhost:8080/"
        },
        "id": "JizLxFMnmkjK",
        "outputId": "a25a60e2-633f-466e-bb73-44ca3bf90417"
      },
      "execution_count": null,
      "outputs": [
        {
          "output_type": "execute_result",
          "data": {
            "text/plain": [
              "2018.304"
            ]
          },
          "metadata": {},
          "execution_count": 6
        }
      ]
    }
  ]
}